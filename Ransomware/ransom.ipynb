{
 "cells": [
  {
   "cell_type": "markdown",
   "metadata": {},
   "source": [
    "# Santander Bootcamp Cibersegurança #2: Entendendo um Ransomware na Prática com Python"
   ]
  },
  {
   "cell_type": "code",
   "execution_count": null,
   "metadata": {},
   "outputs": [],
   "source": [
    "import os\n",
    "from cryptography.fernet import Fernet"
   ]
  },
  {
   "cell_type": "code",
   "execution_count": 17,
   "metadata": {},
   "outputs": [],
   "source": [
    "def generate_key():\n",
    "    \"\"\"Generate a key for encryption and decryption\"\"\"\n",
    "    key = Fernet.generate_key()\n",
    "    return key\n",
    "\n",
    "def encrypt_file(key, file_path):\n",
    "    \"\"\"Encrypt a file using the provided key\"\"\"\n",
    "    f = Fernet(key)\n",
    "    with open(file_path, 'rb') as file:\n",
    "        file_data = file.read()\n",
    "    encrypted_data = f.encrypt(file_data)\n",
    "    with open(file_path, 'wb') as file:\n",
    "        file.write(encrypted_data)\n",
    "\n",
    "def decrypt_file(key, file_path):\n",
    "    \"\"\"Decrypt a file using the provided key\"\"\"\n",
    "    f = Fernet(key)\n",
    "    with open(file_path, 'rb') as file:\n",
    "        encrypted_data = file.read()\n",
    "    decrypted_data = f.decrypt(encrypted_data)\n",
    "    with open(file_path, 'wb') as file:\n",
    "        file.write(decrypted_data)"
   ]
  },
  {
   "cell_type": "code",
   "execution_count": 18,
   "metadata": {},
   "outputs": [
    {
     "name": "stdout",
     "output_type": "stream",
     "text": [
      "Generated Key: b'cFlep4nNedgFw5xMM2Emq8qhTufKYOX7rpLwfNWWSjI='\n"
     ]
    }
   ],
   "source": [
    "key = generate_key()\n",
    "print(\"Generated Key:\", key)"
   ]
  },
  {
   "cell_type": "code",
   "execution_count": 19,
   "metadata": {},
   "outputs": [
    {
     "name": "stdout",
     "output_type": "stream",
     "text": [
      "teste criptografia de arquivo."
     ]
    }
   ],
   "source": [
    "!cat teste_cripto.txt"
   ]
  },
  {
   "cell_type": "code",
   "execution_count": 23,
   "metadata": {},
   "outputs": [
    {
     "name": "stdout",
     "output_type": "stream",
     "text": [
      "File encrypted successfully!\n",
      "gAAAAABndC9YWcd-xRcpOa5NbKXQknj0du-GqlqHihkhOlh83YO-0AUCPVMkg31CuPlF_7Y-k5OVfxxRVe6-w4lRnJEb5yNxyyF0s7arepgAt1TidOZVa84="
     ]
    }
   ],
   "source": [
    "file_path = \"teste_cripto.txt\"\n",
    "encrypt_file(key, file_path)\n",
    "print(\"File encrypted successfully!\")\n",
    "!cat teste_cripto.txt"
   ]
  },
  {
   "cell_type": "code",
   "execution_count": 24,
   "metadata": {},
   "outputs": [
    {
     "name": "stdout",
     "output_type": "stream",
     "text": [
      "File decrypted successfully!\n",
      "teste criptografia de arquivo."
     ]
    }
   ],
   "source": [
    "decrypt_file(key, file_path)\n",
    "print(\"File decrypted successfully!\")\n",
    "!cat teste_cripto.txt"
   ]
  },
  {
   "cell_type": "code",
   "execution_count": null,
   "metadata": {},
   "outputs": [],
   "source": []
  }
 ],
 "metadata": {
  "kernelspec": {
   "display_name": "env-DIO",
   "language": "python",
   "name": "env-dio"
  },
  "language_info": {
   "codemirror_mode": {
    "name": "ipython",
    "version": 3
   },
   "file_extension": ".py",
   "mimetype": "text/x-python",
   "name": "python",
   "nbconvert_exporter": "python",
   "pygments_lexer": "ipython3",
   "version": "3.13.1"
  }
 },
 "nbformat": 4,
 "nbformat_minor": 2
}
